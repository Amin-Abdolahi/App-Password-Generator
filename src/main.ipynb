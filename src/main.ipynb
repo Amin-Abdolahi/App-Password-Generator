{
 "cells": [
  {
   "cell_type": "code",
   "execution_count": 1,
   "id": "38f2b642",
   "metadata": {},
   "outputs": [
    {
     "data": {
      "text/plain": [
       "'\\nA simple and customizable password generator written in Python.\\n\\nsteps to create the password generator:\\n1) Import necessary libraries\\n\\n2) Define password generation function\\n\\n3) Implement user input and output\\n\\nthe strategy for implementing user input and output is as follows:\\n- Use the input() function to gather user preferences for password length and character types.\\n- Display the generated password to the user using print().\\n- Optionally, implement clipboard functionality for easy password copying.\\n'"
      ]
     },
     "execution_count": 1,
     "metadata": {},
     "output_type": "execute_result"
    }
   ],
   "source": [
    "'''\n",
    "A simple and customizable password generator written in Python.\n",
    "\n",
    "steps to create the password generator:\n",
    "1) Import necessary libraries\n",
    "\n",
    "2) Define password generation function\n",
    "\n",
    "3) Implement user input and output\n",
    "\n",
    "the strategy for implementing user input and output is as follows:\n",
    "- Use the input() function to gather user preferences for password length and character types.\n",
    "- Display the generated password to the user using print().\n",
    "- Optionally, implement clipboard functionality for easy password copying.\n",
    "'''"
   ]
  },
  {
   "cell_type": "code",
   "execution_count": null,
   "id": "ecb7333d",
   "metadata": {},
   "outputs": [],
   "source": [
    "import random\n",
    "# get length of password from user\n",
    "def get_length():\n",
    "    length = (input(\"Enter the length of password you want: \"))\n",
    "    try:\n",
    "        length = int(length)\n",
    "        return int(length)\n",
    "    except ValueError:\n",
    "        print(\" not a number please try again\")\n",
    "        return get_length()\n",
    "\n",
    "\n",
    "#get password characters include from user\n",
    "def get_includes():\n",
    "    include = input(\"Enter password includes? [N]numbers, [A]numbers and charachters :\").upper()\n",
    "    if include in [\"A\", \"N\"] :\n",
    "        return include \n",
    "    else:\n",
    "        print(\"wrong charachter try again: \")\n",
    "        return get_includes()\n",
    "    \n",
    "\n",
    "#check and confirm user conditions\n",
    "def user_conditions():\n",
    "        #get conditions\n",
    "        length = get_length()\n",
    "        include = get_includes()\n",
    "        #confirm conditions\n",
    "        confirm = input(f\"\\nThe requested password will have {length} characters and include {'ALL CHARACTERS' if include == 'A' else 'ONLY NUMBERS'}.\\nPress ENTER to confirm or type anything to cancel: \")\n",
    "        if confirm == \"\":\n",
    "            print(\"Confirmed\")\n",
    "            return length, include\n",
    "        else:\n",
    "            print(\"canceld\")\n",
    "            return user_conditions()\n",
    "\n",
    "# generate the password\n",
    "def password_generator():\n",
    "    length, pass_include = user_conditions()\n",
    "    numbers = list(f\"{number}\" for number in range (0,10))\n",
    "    generated_password = []\n",
    "    charachters = ['!', '@', '#', '$', '%', '^', '&', '*', '(', ')', '_', '-', '+', '=', '{', '}', '[', ']', ':', ';', '\"', '\\'','<', '>', '.', '?', '/'] + numbers\n",
    "    for i in range(length):\n",
    "        if pass_include == \"N\":\n",
    "            num =str(random.randint(0, 9))\n",
    "            generated_password.append(num)\n",
    "        else:\n",
    "            generated_password.append(random.choice(charachters))\n",
    "    generated_password = \"\".join(generated_password)\n",
    "    return generated_password\n",
    "\n",
    "\n",
    "    # implement password generation logic\n",
    "\n",
    "password = password_generator()\n",
    "print(password)"
   ]
  }
 ],
 "metadata": {
  "kernelspec": {
   "display_name": "App-Password-Generator",
   "language": "python",
   "name": "python3"
  },
  "language_info": {
   "codemirror_mode": {
    "name": "ipython",
    "version": 3
   },
   "file_extension": ".py",
   "mimetype": "text/x-python",
   "name": "python",
   "nbconvert_exporter": "python",
   "pygments_lexer": "ipython3",
   "version": "3.13.5"
  }
 },
 "nbformat": 4,
 "nbformat_minor": 5
}
